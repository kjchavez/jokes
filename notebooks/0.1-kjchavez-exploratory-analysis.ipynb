{
 "cells": [
  {
   "cell_type": "code",
   "execution_count": 1,
   "metadata": {},
   "outputs": [
    {
     "name": "stdout",
     "output_type": "stream",
     "text": [
      "Data from reddit_jokes.json: 194553\n",
      "Example: {\n",
      "  \"score\": 1,\n",
      "  \"body\": \"Now I have to say \\\"Leroy can you please paint the fence?\\\"\",\n",
      "  \"id\": \"5tz52q\",\n",
      "  \"title\": \"I hate how you cant even say black paint anymore\"\n",
      "}\n",
      "Data from stupidstuff.json: 3773\n",
      "Example: {\n",
      "  \"body\": \"A blackjack dealer and a player with a thirteen count in his hand\\nwere arguing about whether or not it was appropriate to tip the\\ndealer.\\n\\nThe player said, \\\"When I get bad cards, it's not the dealer's fault.\\nAccordingly, when I get good cards, the dealer obviously had nothing\\nto do with it so, why should I tip him?\\\"\\n\\nThe dealer said, \\\"When you eat out do you tip the waiter?\\\"\\n\\n\\\"Yes.\\\"\\n\\n\\\"Well then, he serves you food, I'm serving you cards, so you should\\ntip me.\\\"\\n\\n\\\"Okay, but, the waiter gives me what I ask for. I'll take an eight.\\\"\",\n",
      "  \"rating\": 2.63,\n",
      "  \"id\": 1,\n",
      "  \"category\": \"Children\"\n",
      "}\n",
      "Data from wocka.json: 10019\n",
      "Example: {\n",
      "  \"body\": \"What do you call a cow with no legs?\\r\\n\\r\\nGround Beef!\",\n",
      "  \"id\": 1,\n",
      "  \"category\": \"Animal\",\n",
      "  \"title\": \"Cow With No Legs\"\n",
      "}\n"
     ]
    }
   ],
   "source": [
    "# Load the \"autoreload\" extension\n",
    "%load_ext autoreload\n",
    "\n",
    "# always reload modules marked with \"%aimport\"\n",
    "%autoreload 1\n",
    "\n",
    "import json\n",
    "import os\n",
    "\n",
    "base_path = \"../data/external/joke-dataset-master\"\n",
    "filenames = ('reddit_jokes.json', 'stupidstuff.json', 'wocka.json')\n",
    "data_files = [os.path.join(base_path, fname) for fname in filenames]\n",
    "\n",
    "\n",
    "for fname in data_files:\n",
    "    with open(fname) as fp:\n",
    "        data = json.load(fp)\n",
    "    print(\"Data from %s: %d\" % (os.path.basename(fname), len(data)))\n",
    "    print(\"Example:\", json.dumps(data[0], indent=2))"
   ]
  },
  {
   "cell_type": "code",
   "execution_count": 2,
   "metadata": {},
   "outputs": [],
   "source": [
    "# Let's augment each data point with information about its source. This will make it easier to check stats by filtering on this source\n",
    "import pandas as pd\n",
    "frames = []\n",
    "for fname in data_files:\n",
    "    frames.append(pd.read_json(fname))\n",
    "    \n",
    "df = pd.concat(frames, ignore_index=True)\n"
   ]
  },
  {
   "cell_type": "code",
   "execution_count": 13,
   "metadata": {},
   "outputs": [],
   "source": [
    "%matplotlib inline\n",
    "import matplotlib.pyplot as plt\n",
    "\n",
    "df['length'] = df.apply(lambda row: len(row.get('body', ''))+len(str(row.get('title', ''))), axis=1)"
   ]
  },
  {
   "cell_type": "code",
   "execution_count": 14,
   "metadata": {},
   "outputs": [
    {
     "name": "stdout",
     "output_type": "stream",
     "text": [
      "Quantiles\n",
      "      rating   score   length\n",
      "0.25    2.33     0.0    68.00\n",
      "0.50    3.09     3.0    98.00\n",
      "0.90    5.00    94.0   741.00\n",
      "0.95    5.00   260.0  1099.00\n",
      "0.99    5.00  2193.0  2096.56\n"
     ]
    },
    {
     "data": {
      "image/png": "[encoded data removed]",
      "text/plain": [
       "<matplotlib.figure.Figure at 0x7fef2d41f358>"
      ]
     },
     "metadata": {},
     "output_type": "display_data"
    }
   ],
   "source": [
    "# Quantiles\n",
    "print(\"Quantiles\")\n",
    "print(df.quantile([0.25, 0.5, 0.9, 0.95, 0.99]))\n",
    "\n",
    "df.query('length<1000').hist(column='length', bins=100)\n",
    "gte1000 = len(df.query('length>=1000'))"
   ]
  },
  {
   "cell_type": "code",
   "execution_count": 21,
   "metadata": {},
   "outputs": [
    {
     "name": "stdout",
     "output_type": "stream",
     "text": [
      "153099\n"
     ]
    }
   ],
   "source": [
    "small = df.query('length<200')\n",
    "small.head(30)\n",
    "print(len(small))"
   ]
  }
 ],
 "metadata": {
  "kernelspec": {
   "display_name": "Python 3",
   "language": "python",
   "name": "python3"
  },
  "language_info": {
   "codemirror_mode": {
    "name": "ipython",
    "version": 3
   },
   "file_extension": ".py",
   "mimetype": "text/x-python",
   "name": "python",
   "nbconvert_exporter": "python",
   "pygments_lexer": "ipython3",
   "version": "3.5.4"
  }
 },
 "nbformat": 4,
 "nbformat_minor": 2
}
